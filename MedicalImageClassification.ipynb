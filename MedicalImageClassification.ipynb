{
 "cells": [
  {
   "cell_type": "code",
   "execution_count": 1,
   "metadata": {},
   "outputs": [
    {
     "name": "stderr",
     "output_type": "stream",
     "text": [
      "Using TensorFlow backend.\n"
     ]
    }
   ],
   "source": [
    "import numpy as np \n",
    "import matplotlib.pyplot as plt\n",
    "from sklearn.metrics import accuracy_score, f1_score, precision_score, recall_score, classification_report, confusion_matrix\n",
    "import tensorflow as tf\n",
    "from tensorflow import keras\n",
    "from tensorflow.keras import layers\n",
    "from tensorflow.keras.models import Sequential, load_model\n",
    "from tensorflow.keras.layers import Dense\n",
    "from tensorflow.keras.utils import to_categorical\n",
    "from keras.preprocessing.image import ImageDataGenerator\n",
    "from tensorflow.keras.layers import Dropout\n",
    "from tensorflow.keras.layers import Flatten,BatchNormalization\n",
    "from tensorflow.keras.callbacks import ModelCheckpoint, EarlyStopping\n",
    "from tensorflow.keras.layers import Convolution2D,Conv2D\n",
    "from tensorflow.keras.layers import MaxPooling2D\n",
    "from tensorflow.compat.v1 import ConfigProto\n",
    "from tensorflow.compat.v1 import InteractiveSession\n",
    "from keras import optimizers"
   ]
  },
  {
   "cell_type": "code",
   "execution_count": 2,
   "metadata": {},
   "outputs": [],
   "source": [
    "# Root folder of the dataset\n",
    "# Dataset URL-> https://www.kaggle.com/paultimothymooney/chest-xray-pneumonia\n",
    "datasetFolderName='DS2'\n",
    "# Model file name for saving\n",
    "MODEL_FILENAME=\"imageClassificationModel.h5\"\n",
    "# Input image dimensions\n",
    "img_rows, img_cols, numOfChannels =  100, 100, 1\n",
    "# Train, Validation, and Test data path\n",
    "train_path=datasetFolderName+'/train/'\n",
    "validation_path=datasetFolderName+'/validation/'\n",
    "test_path=datasetFolderName+'/test/'"
   ]
  },
  {
   "cell_type": "code",
   "execution_count": 3,
   "metadata": {},
   "outputs": [],
   "source": [
    "def showResults(test, pred):\n",
    "    target_names = ['positive', 'negative']\n",
    "    # print(classification_report(test, pred, target_names=target_names))\n",
    "    accuracy = accuracy_score(test, pred)\n",
    "    precision=precision_score(test, pred, average='weighted')\n",
    "    f1Score=f1_score(test, pred, average='weighted') \n",
    "    print(\"Accuracy  : {}\".format(accuracy))\n",
    "    print(\"Precision : {}\".format(precision))\n",
    "    print(\"f1Score : {}\".format(f1Score))\n",
    "    cm=confusion_matrix(test, pred)\n",
    "    print(cm)    "
   ]
  },
  {
   "cell_type": "code",
   "execution_count": 4,
   "metadata": {},
   "outputs": [
    {
     "name": "stdout",
     "output_type": "stream",
     "text": [
      "Found 5216 images belonging to 2 classes.\n",
      "Found 100 images belonging to 2 classes.\n",
      "Found 540 images belonging to 2 classes.\n"
     ]
    }
   ],
   "source": [
    "train_datagen = ImageDataGenerator(\n",
    "                rescale=1./255,\n",
    "                # validation_split=0.1,\n",
    "                # shear_range=0.05,\n",
    "            \t# horizontal_flip=True,\n",
    "        \t\t# rotation_range=30,\n",
    "        \t\t# zoom_range=0.20,\n",
    "                # zca_whitening=True,\n",
    "            \tfill_mode=\"nearest\"\n",
    "                )\n",
    "validation_datagen = ImageDataGenerator(\n",
    "                rescale=1./255,\n",
    "                # shear_range=0.05,\n",
    "            \t# horizontal_flip=True,\n",
    "        \t\t# rotation_range=30,\n",
    "        \t\t# zoom_range=0.20,\n",
    "                # zca_whitening=True,\n",
    "            \tfill_mode=\"nearest\"\n",
    "                )\n",
    "test_datagen = ImageDataGenerator(rescale=1./255)\n",
    "\n",
    "activationFunction='relu'\n",
    "batch_size = 16\n",
    "epoch=20\n",
    "\n",
    "train_generator = train_datagen.flow_from_directory(\n",
    "        train_path,\n",
    "        target_size=(img_rows, img_cols),\n",
    "        batch_size=batch_size,\n",
    "        class_mode='categorical',\n",
    "        color_mode=\"grayscale\")\n",
    "\n",
    "validation_generator = train_datagen.flow_from_directory(\n",
    "        validation_path,\n",
    "        target_size=(img_rows, img_cols),\n",
    "        batch_size=batch_size,\n",
    "        class_mode='categorical',\n",
    "        color_mode=\"grayscale\")\n",
    "\n",
    "test_generator = test_datagen.flow_from_directory(\n",
    "        test_path,\n",
    "        target_size=(img_rows, img_cols),\n",
    "        batch_size=batch_size,\n",
    "        color_mode=\"grayscale\",\n",
    "        class_mode=None,  # only data, no labels\n",
    "        shuffle=False)"
   ]
  },
  {
   "cell_type": "code",
   "execution_count": 5,
   "metadata": {},
   "outputs": [],
   "source": [
    "def getModel():\n",
    "    model = Sequential()\n",
    "    \n",
    "    model.add(Conv2D(100, kernel_size = (5, 5), activation=activationFunction, input_shape=(img_rows, img_cols, numOfChannels)))\n",
    "    model.add(Dropout(0.1))\n",
    "    model.add(MaxPooling2D(pool_size=(2,2)))\n",
    "    \n",
    "    model.add(Conv2D(50, kernel_size=(3,3), activation=activationFunction))\n",
    "    model.add(Dropout(0.1))\n",
    "    model.add(MaxPooling2D(pool_size=(2,2)))\n",
    "    \n",
    "    model.add(Conv2D(50, kernel_size=(3,3), activation=activationFunction))\n",
    "    model.add(Dropout(0.1))\n",
    "    model.add(MaxPooling2D(pool_size=(2,2)))\n",
    "    \n",
    "    model.add(Flatten())\n",
    "    model.add(Dense(100, activation=activationFunction))\n",
    "    model.add(Dropout(0.1))\n",
    "    model.add(Dense(50, activation=activationFunction))\n",
    "    model.add(Dense(2, activation = 'softmax'))\n",
    "    model.compile(optimizer='adam', loss='binary_crossentropy', metrics=['accuracy'])\n",
    "    \n",
    "    return model\n",
    "\n",
    "model = getModel()"
   ]
  },
  {
   "cell_type": "code",
   "execution_count": 6,
   "metadata": {},
   "outputs": [
    {
     "name": "stdout",
     "output_type": "stream",
     "text": [
      "WARNING:tensorflow:From <ipython-input-6-036c2720c0c2>:15: Model.fit_generator (from tensorflow.python.keras.engine.training) is deprecated and will be removed in a future version.\n",
      "Instructions for updating:\n",
      "Please use Model.fit, which supports generators.\n",
      "WARNING:tensorflow:sample_weight modes were coerced from\n",
      "  ...\n",
      "    to  \n",
      "  ['...']\n",
      "WARNING:tensorflow:sample_weight modes were coerced from\n",
      "  ...\n",
      "    to  \n",
      "  ['...']\n",
      "Train for 326 steps, validate for 7 steps\n",
      "Epoch 1/20\n",
      "325/326 [============================>.] - ETA: 1s - loss: 0.2136 - accuracy: 0.9135\n",
      "Epoch 00001: loss improved from inf to 0.21407, saving model to imageClassificationModel.h5\n",
      "326/326 [==============================] - 504s 2s/step - loss: 0.2141 - accuracy: 0.9135 - val_loss: 0.7003 - val_accuracy: 0.7700\n",
      "Epoch 2/20\n",
      "325/326 [============================>.] - ETA: 1s - loss: 0.1115 - accuracy: 0.9573\n",
      "Epoch 00002: loss improved from 0.21407 to 0.11133, saving model to imageClassificationModel.h5\n",
      "326/326 [==============================] - 435s 1s/step - loss: 0.1113 - accuracy: 0.9574 - val_loss: 1.1476 - val_accuracy: 0.7000\n",
      "Epoch 3/20\n",
      "325/326 [============================>.] - ETA: 1s - loss: 0.0936 - accuracy: 0.9667\n",
      "Epoch 00003: loss improved from 0.11133 to 0.09396, saving model to imageClassificationModel.h5\n",
      "326/326 [==============================] - 458s 1s/step - loss: 0.0940 - accuracy: 0.9663 - val_loss: 0.7956 - val_accuracy: 0.7700\n",
      "Epoch 4/20\n",
      "325/326 [============================>.] - ETA: 1s - loss: 0.0956 - accuracy: 0.9658\n",
      "Epoch 00004: loss did not improve from 0.09396\n",
      "326/326 [==============================] - 551s 2s/step - loss: 0.0956 - accuracy: 0.9657 - val_loss: 0.8724 - val_accuracy: 0.6800\n",
      "Epoch 5/20\n",
      "325/326 [============================>.] - ETA: 1s - loss: 0.0746 - accuracy: 0.9721\n",
      "Epoch 00005: loss improved from 0.09396 to 0.07444, saving model to imageClassificationModel.h5\n",
      "326/326 [==============================] - 441s 1s/step - loss: 0.0744 - accuracy: 0.9722 - val_loss: 0.7389 - val_accuracy: 0.7500\n",
      "Epoch 6/20\n",
      "325/326 [============================>.] - ETA: 1s - loss: 0.0664 - accuracy: 0.9735\n",
      "Epoch 00006: loss improved from 0.07444 to 0.06634, saving model to imageClassificationModel.h5\n",
      "326/326 [==============================] - 438s 1s/step - loss: 0.0663 - accuracy: 0.9735 - val_loss: 0.6640 - val_accuracy: 0.7400\n",
      "Epoch 7/20\n",
      "325/326 [============================>.] - ETA: 1s - loss: 0.0525 - accuracy: 0.9804\n",
      "Epoch 00007: loss improved from 0.06634 to 0.05237, saving model to imageClassificationModel.h5\n",
      "326/326 [==============================] - 422s 1s/step - loss: 0.0524 - accuracy: 0.9804 - val_loss: 1.8597 - val_accuracy: 0.6900\n",
      "Epoch 8/20\n",
      "325/326 [============================>.] - ETA: 1s - loss: 0.0535 - accuracy: 0.9813\n",
      "Epoch 00008: loss did not improve from 0.05237\n",
      "326/326 [==============================] - 379s 1s/step - loss: 0.0535 - accuracy: 0.9814 - val_loss: 0.7399 - val_accuracy: 0.7500\n",
      "Epoch 9/20\n",
      "325/326 [============================>.] - ETA: 1s - loss: 0.0585 - accuracy: 0.9775\n",
      "Epoch 00009: loss did not improve from 0.05237\n",
      "326/326 [==============================] - 557s 2s/step - loss: 0.0584 - accuracy: 0.9776 - val_loss: 1.1756 - val_accuracy: 0.7100\n",
      "Epoch 10/20\n",
      "325/326 [============================>.] - ETA: 0s - loss: 0.0346 - accuracy: 0.9877\n",
      "Epoch 00010: loss improved from 0.05237 to 0.03470, saving model to imageClassificationModel.h5\n",
      "326/326 [==============================] - 156s 480ms/step - loss: 0.0347 - accuracy: 0.9875 - val_loss: 1.0327 - val_accuracy: 0.7300\n",
      "Epoch 11/20\n",
      "325/326 [============================>.] - ETA: 0s - loss: 0.0236 - accuracy: 0.9908\n",
      "Epoch 00011: loss improved from 0.03470 to 0.02355, saving model to imageClassificationModel.h5\n",
      "326/326 [==============================] - 153s 470ms/step - loss: 0.0235 - accuracy: 0.9908 - val_loss: 1.3482 - val_accuracy: 0.7500\n",
      "Epoch 12/20\n",
      "325/326 [============================>.] - ETA: 0s - loss: 0.0249 - accuracy: 0.9906\n",
      "Epoch 00012: loss did not improve from 0.02355\n",
      "326/326 [==============================] - 179s 548ms/step - loss: 0.0249 - accuracy: 0.9906 - val_loss: 1.4324 - val_accuracy: 0.7600\n",
      "Epoch 13/20\n",
      "325/326 [============================>.] - ETA: 0s - loss: 0.0196 - accuracy: 0.9917\n",
      "Epoch 00013: loss improved from 0.02355 to 0.01960, saving model to imageClassificationModel.h5\n",
      "326/326 [==============================] - 164s 503ms/step - loss: 0.0196 - accuracy: 0.9918 - val_loss: 1.1466 - val_accuracy: 0.7100\n",
      "Epoch 14/20\n",
      "325/326 [============================>.] - ETA: 0s - loss: 0.0136 - accuracy: 0.9958\n",
      "Epoch 00014: loss improved from 0.01960 to 0.01360, saving model to imageClassificationModel.h5\n",
      "326/326 [==============================] - 155s 474ms/step - loss: 0.0136 - accuracy: 0.9958 - val_loss: 1.4447 - val_accuracy: 0.7700\n",
      "Epoch 15/20\n",
      "325/326 [============================>.] - ETA: 0s - loss: 0.0243 - accuracy: 0.9898\n",
      "Epoch 00015: loss did not improve from 0.01360\n",
      "326/326 [==============================] - 159s 489ms/step - loss: 0.0245 - accuracy: 0.9898 - val_loss: 1.3803 - val_accuracy: 0.7200\n",
      "Epoch 16/20\n",
      "325/326 [============================>.] - ETA: 0s - loss: 0.0229 - accuracy: 0.9904\n",
      "Epoch 00016: loss did not improve from 0.01360\n",
      "326/326 [==============================] - 152s 465ms/step - loss: 0.0228 - accuracy: 0.9904 - val_loss: 1.5817 - val_accuracy: 0.7100\n",
      "Epoch 17/20\n",
      "325/326 [============================>.] - ETA: 0s - loss: 0.0130 - accuracy: 0.9956\n",
      "Epoch 00017: loss improved from 0.01360 to 0.01295, saving model to imageClassificationModel.h5\n",
      "326/326 [==============================] - 145s 444ms/step - loss: 0.0130 - accuracy: 0.9956 - val_loss: 0.9448 - val_accuracy: 0.8200\n",
      "Epoch 18/20\n",
      "325/326 [============================>.] - ETA: 0s - loss: 0.0118 - accuracy: 0.9948\n",
      "Epoch 00018: loss improved from 0.01295 to 0.01173, saving model to imageClassificationModel.h5\n",
      "326/326 [==============================] - 143s 439ms/step - loss: 0.0117 - accuracy: 0.9948 - val_loss: 1.0003 - val_accuracy: 0.8100\n",
      "Epoch 19/20\n",
      "325/326 [============================>.] - ETA: 0s - loss: 0.0220 - accuracy: 0.9935\n",
      "Epoch 00019: loss did not improve from 0.01173\n",
      "326/326 [==============================] - 153s 470ms/step - loss: 0.0221 - accuracy: 0.9935 - val_loss: 1.3210 - val_accuracy: 0.7300\n",
      "Epoch 20/20\n",
      "325/326 [============================>.] - ETA: 0s - loss: 0.0142 - accuracy: 0.9946\n",
      "Epoch 00020: loss did not improve from 0.01173\n",
      "326/326 [==============================] - 156s 479ms/step - loss: 0.0142 - accuracy: 0.9946 - val_loss: 2.0947 - val_accuracy: 0.7100\n"
     ]
    }
   ],
   "source": [
    "checkpoint = ModelCheckpoint(MODEL_FILENAME,  # model filename\n",
    "                             monitor='loss',\n",
    "                             verbose=1, # verbosity - 0 or 1\n",
    "                             save_best_only= True, \n",
    "                             mode='auto') \n",
    "early_stopping = EarlyStopping(monitor='loss',\n",
    "                               patience=5,\n",
    "                               verbose=1,\n",
    "                               mode='auto')\n",
    "\n",
    "# fit model\n",
    "history=model.fit_generator(train_generator, \n",
    "                            epochs=epoch,\n",
    "                            validation_data=validation_generator, \n",
    "                            callbacks=[checkpoint, early_stopping])"
   ]
  },
  {
   "cell_type": "code",
   "execution_count": 12,
   "metadata": {
    "scrolled": true
   },
   "outputs": [
    {
     "data": {
      "image/png": "[encoded data removed]",
      "text/plain": [
       "<Figure size 504x360 with 1 Axes>"
      ]
     },
     "metadata": {
      "needs_background": "light"
     },
     "output_type": "display_data"
    },
    {
     "data": {
      "image/png": "[encoded data removed]",
      "text/plain": [
       "<Figure size 504x360 with 1 Axes>"
      ]
     },
     "metadata": {
      "needs_background": "light"
     },
     "output_type": "display_data"
    }
   ],
   "source": [
    "# Plot validation accuracy and loss\n",
    "history.history['loss']\n",
    "fig=plt.rc('figure', figsize=(7, 5))\n",
    "\n",
    "fontLabels = {'family': 'Times New Roman',\n",
    "        'color':  'black',\n",
    "        'weight': 'bold',\n",
    "        'size': 24,\n",
    "        }\n",
    "\n",
    "axisLabelFont=18\n",
    "#Validation Accuracy Plot   \n",
    "plt.xticks([1,10,20], fontsize=axisLabelFont)\n",
    "plt.yticks(fontsize=axisLabelFont)\n",
    "plt.ylim(ymin=0.7,ymax=1.1) \n",
    "plt.xlim(xmin=1, xmax=20)\n",
    "plt.plot(history.history['accuracy'])\n",
    "plt.title('Accuracy curve', fontdict=fontLabels)\n",
    "plt.ylabel('Accuracy', fontdict=fontLabels)\n",
    "plt.xlabel('Epohcs', fontdict=fontLabels)\n",
    "plt.legend(['Train'], loc='upper center', frameon=False, bbox_to_anchor=(0.50, 1.03), shadow=False, ncol=2, fontsize=axisLabelFont)\n",
    "plt.show()\n",
    "\n",
    "#Validation Loss Plot   \n",
    "plt.xticks([1,10,20],fontsize=axisLabelFont)\n",
    "plt.yticks(fontsize=axisLabelFont)\n",
    "plt.ylim(ymin=0,ymax=0.5) \n",
    "plt.xlim(xmin=1, xmax=20)\n",
    "plt.plot(history.history['loss'])\n",
    "plt.title('Loss curve', fontdict=fontLabels)\n",
    "plt.ylabel('Loss', fontdict=fontLabels)\n",
    "plt.xlabel('Epohcs', fontdict=fontLabels)\n",
    "plt.legend(['Train'], loc='upper center', frameon=False, bbox_to_anchor=(0.50, 1.03), shadow=False, ncol=2, fontsize=axisLabelFont)\n",
    "plt.show()"
   ]
  },
  {
   "cell_type": "code",
   "execution_count": 13,
   "metadata": {},
   "outputs": [
    {
     "name": "stdout",
     "output_type": "stream",
     "text": [
      "34/34 [==============================] - 20s 583ms/step\n",
      "Accuracy  : 0.75\n",
      "Precision : 0.8144402551182212\n",
      "f1Score : 0.7038192225068363\n",
      "[[ 58 134]\n",
      " [  1 347]]\n"
     ]
    }
   ],
   "source": [
    "# Testing/Prediction phase\n",
    "predictions = model.predict(test_generator, verbose=1)\n",
    "yPredictions = np.argmax(predictions, axis=1)\n",
    "true_classes = test_generator.classes\n",
    "# Display the performance of the model on test data\n",
    "showResults(true_classes[:len(yPredictions)], yPredictions)"
   ]
  }
 ],
 "metadata": {
  "kernelspec": {
   "display_name": "Python 3",
   "language": "python",
   "name": "python3"
  },
  "language_info": {
   "codemirror_mode": {
    "name": "ipython",
    "version": 3
   },
   "file_extension": ".py",
   "mimetype": "text/x-python",
   "name": "python",
   "nbconvert_exporter": "python",
   "pygments_lexer": "ipython3",
   "version": "3.7.7"
  }
 },
 "nbformat": 4,
 "nbformat_minor": 4
}
